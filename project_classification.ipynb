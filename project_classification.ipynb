{
 "cells": [
  {
   "cell_type": "code",
   "execution_count": 101,
   "metadata": {
    "collapsed": true
   },
   "outputs": [],
   "source": [
    "import pandas as pd\n",
    "import numpy as np\n",
    "from scipy import stats\n",
    "import random\n",
    "import matplotlib.pyplot as plt\n",
    "import pickle"
   ]
  },
  {
   "cell_type": "code",
   "execution_count": 102,
   "metadata": {},
   "outputs": [
    {
     "data": {
      "text/html": [
       "<div>\n",
       "<style scoped>\n",
       "    .dataframe tbody tr th:only-of-type {\n",
       "        vertical-align: middle;\n",
       "    }\n",
       "\n",
       "    .dataframe tbody tr th {\n",
       "        vertical-align: top;\n",
       "    }\n",
       "\n",
       "    .dataframe thead th {\n",
       "        text-align: right;\n",
       "    }\n",
       "</style>\n",
       "<table border=\"1\" class=\"dataframe\">\n",
       "  <thead>\n",
       "    <tr style=\"text-align: right;\">\n",
       "      <th></th>\n",
       "      <th>add_these_pw_job_title_9089</th>\n",
       "      <th>application_type</th>\n",
       "      <th>case_no</th>\n",
       "      <th>class_of_admission</th>\n",
       "      <th>country_of_citizenship</th>\n",
       "      <th>country_of_citzenship</th>\n",
       "      <th>employer_country</th>\n",
       "      <th>employer_phone_ext</th>\n",
       "      <th>foreign_worker_info_alt_edu_experience</th>\n",
       "      <th>foreign_worker_info_birth_country</th>\n",
       "      <th>...</th>\n",
       "      <th>ri_us_workers_considered</th>\n",
       "      <th>schd_a_sheepherder</th>\n",
       "      <th>us_economic_sector</th>\n",
       "      <th>wage_offer_to_9089</th>\n",
       "      <th>wage_offer_unit_of_pay_9089</th>\n",
       "      <th>wage_offered_from_9089</th>\n",
       "      <th>wage_offered_to_9089</th>\n",
       "      <th>wage_offered_unit_of_pay_9089</th>\n",
       "      <th>have_agent</th>\n",
       "      <th>Certified</th>\n",
       "    </tr>\n",
       "  </thead>\n",
       "  <tbody>\n",
       "    <tr>\n",
       "      <th>0</th>\n",
       "      <td>NaN</td>\n",
       "      <td>PERM</td>\n",
       "      <td>A-07323-97014</td>\n",
       "      <td>J-1</td>\n",
       "      <td>NaN</td>\n",
       "      <td>ARMENIA</td>\n",
       "      <td>NaN</td>\n",
       "      <td>NaN</td>\n",
       "      <td>NaN</td>\n",
       "      <td>NaN</td>\n",
       "      <td>...</td>\n",
       "      <td>NaN</td>\n",
       "      <td>NaN</td>\n",
       "      <td>IT</td>\n",
       "      <td>NaN</td>\n",
       "      <td>yr</td>\n",
       "      <td>NaN</td>\n",
       "      <td>NaN</td>\n",
       "      <td>NaN</td>\n",
       "      <td>False</td>\n",
       "      <td>True</td>\n",
       "    </tr>\n",
       "    <tr>\n",
       "      <th>1</th>\n",
       "      <td>NaN</td>\n",
       "      <td>PERM</td>\n",
       "      <td>A-07332-99439</td>\n",
       "      <td>B-2</td>\n",
       "      <td>NaN</td>\n",
       "      <td>POLAND</td>\n",
       "      <td>NaN</td>\n",
       "      <td>NaN</td>\n",
       "      <td>NaN</td>\n",
       "      <td>NaN</td>\n",
       "      <td>...</td>\n",
       "      <td>NaN</td>\n",
       "      <td>NaN</td>\n",
       "      <td>Other Economic Sector</td>\n",
       "      <td>NaN</td>\n",
       "      <td>yr</td>\n",
       "      <td>NaN</td>\n",
       "      <td>NaN</td>\n",
       "      <td>NaN</td>\n",
       "      <td>False</td>\n",
       "      <td>False</td>\n",
       "    </tr>\n",
       "    <tr>\n",
       "      <th>2</th>\n",
       "      <td>NaN</td>\n",
       "      <td>PERM</td>\n",
       "      <td>A-07333-99643</td>\n",
       "      <td>H-1B</td>\n",
       "      <td>NaN</td>\n",
       "      <td>INDIA</td>\n",
       "      <td>NaN</td>\n",
       "      <td>NaN</td>\n",
       "      <td>NaN</td>\n",
       "      <td>NaN</td>\n",
       "      <td>...</td>\n",
       "      <td>NaN</td>\n",
       "      <td>NaN</td>\n",
       "      <td>Aerospace</td>\n",
       "      <td>NaN</td>\n",
       "      <td>yr</td>\n",
       "      <td>NaN</td>\n",
       "      <td>NaN</td>\n",
       "      <td>NaN</td>\n",
       "      <td>False</td>\n",
       "      <td>True</td>\n",
       "    </tr>\n",
       "    <tr>\n",
       "      <th>3</th>\n",
       "      <td>NaN</td>\n",
       "      <td>PERM</td>\n",
       "      <td>A-07339-01930</td>\n",
       "      <td>B-2</td>\n",
       "      <td>NaN</td>\n",
       "      <td>SOUTH KOREA</td>\n",
       "      <td>NaN</td>\n",
       "      <td>NaN</td>\n",
       "      <td>NaN</td>\n",
       "      <td>NaN</td>\n",
       "      <td>...</td>\n",
       "      <td>NaN</td>\n",
       "      <td>NaN</td>\n",
       "      <td>Other Economic Sector</td>\n",
       "      <td>NaN</td>\n",
       "      <td>hr</td>\n",
       "      <td>NaN</td>\n",
       "      <td>NaN</td>\n",
       "      <td>NaN</td>\n",
       "      <td>False</td>\n",
       "      <td>True</td>\n",
       "    </tr>\n",
       "    <tr>\n",
       "      <th>4</th>\n",
       "      <td>NaN</td>\n",
       "      <td>PERM</td>\n",
       "      <td>A-07345-03565</td>\n",
       "      <td>L-1</td>\n",
       "      <td>NaN</td>\n",
       "      <td>CANADA</td>\n",
       "      <td>NaN</td>\n",
       "      <td>NaN</td>\n",
       "      <td>NaN</td>\n",
       "      <td>NaN</td>\n",
       "      <td>...</td>\n",
       "      <td>NaN</td>\n",
       "      <td>NaN</td>\n",
       "      <td>Advanced Mfg</td>\n",
       "      <td>NaN</td>\n",
       "      <td>yr</td>\n",
       "      <td>NaN</td>\n",
       "      <td>NaN</td>\n",
       "      <td>NaN</td>\n",
       "      <td>False</td>\n",
       "      <td>True</td>\n",
       "    </tr>\n",
       "  </tbody>\n",
       "</table>\n",
       "<p>5 rows × 106 columns</p>\n",
       "</div>"
      ],
      "text/plain": [
       "  add_these_pw_job_title_9089 application_type        case_no  \\\n",
       "0                         NaN             PERM  A-07323-97014   \n",
       "1                         NaN             PERM  A-07332-99439   \n",
       "2                         NaN             PERM  A-07333-99643   \n",
       "3                         NaN             PERM  A-07339-01930   \n",
       "4                         NaN             PERM  A-07345-03565   \n",
       "\n",
       "  class_of_admission country_of_citizenship country_of_citzenship  \\\n",
       "0                J-1                    NaN               ARMENIA   \n",
       "1                B-2                    NaN                POLAND   \n",
       "2               H-1B                    NaN                 INDIA   \n",
       "3                B-2                    NaN           SOUTH KOREA   \n",
       "4                L-1                    NaN                CANADA   \n",
       "\n",
       "  employer_country employer_phone_ext foreign_worker_info_alt_edu_experience  \\\n",
       "0              NaN                NaN                                    NaN   \n",
       "1              NaN                NaN                                    NaN   \n",
       "2              NaN                NaN                                    NaN   \n",
       "3              NaN                NaN                                    NaN   \n",
       "4              NaN                NaN                                    NaN   \n",
       "\n",
       "  foreign_worker_info_birth_country    ...    ri_us_workers_considered  \\\n",
       "0                               NaN    ...                         NaN   \n",
       "1                               NaN    ...                         NaN   \n",
       "2                               NaN    ...                         NaN   \n",
       "3                               NaN    ...                         NaN   \n",
       "4                               NaN    ...                         NaN   \n",
       "\n",
       "  schd_a_sheepherder     us_economic_sector wage_offer_to_9089  \\\n",
       "0                NaN                     IT                NaN   \n",
       "1                NaN  Other Economic Sector                NaN   \n",
       "2                NaN              Aerospace                NaN   \n",
       "3                NaN  Other Economic Sector                NaN   \n",
       "4                NaN           Advanced Mfg                NaN   \n",
       "\n",
       "  wage_offer_unit_of_pay_9089 wage_offered_from_9089 wage_offered_to_9089  \\\n",
       "0                          yr                    NaN                  NaN   \n",
       "1                          yr                    NaN                  NaN   \n",
       "2                          yr                    NaN                  NaN   \n",
       "3                          hr                    NaN                  NaN   \n",
       "4                          yr                    NaN                  NaN   \n",
       "\n",
       "  wage_offered_unit_of_pay_9089 have_agent Certified  \n",
       "0                           NaN      False      True  \n",
       "1                           NaN      False     False  \n",
       "2                           NaN      False      True  \n",
       "3                           NaN      False      True  \n",
       "4                           NaN      False      True  \n",
       "\n",
       "[5 rows x 106 columns]"
      ]
     },
     "execution_count": 102,
     "metadata": {},
     "output_type": "execute_result"
    }
   ],
   "source": [
    "visa_df = pickle.load( open( \"clean_data.p\", \"rb\" ) )\n",
    "visa_df.head()"
   ]
  },
  {
   "cell_type": "code",
   "execution_count": 103,
   "metadata": {
    "collapsed": true
   },
   "outputs": [],
   "source": [
    "def isNat(nat):\n",
    "    try:\n",
    "        return np.datetime64(nat) == np.datetime64('NaT') \n",
    "    except:\n",
    "        return False\n",
    "    \n",
    "def isNan(nan):\n",
    "    try:\n",
    "        return np.isnan(nan)\n",
    "    except:\n",
    "        return False\n",
    "    \n",
    "def transformType(dataframe, fields):\n",
    "#     type_ = new_df.application_type.unique()\n",
    "    final = []\n",
    "    for f in fields:\n",
    "        type_ = dataframe[f].unique()\n",
    "        result = dict()\n",
    "        index = 1\n",
    "        for i in type_:\n",
    "            if isNat(i) or isNan(i):\n",
    "                result[i] = 0\n",
    "            else:\n",
    "                result[i] = index\n",
    "                index+=1\n",
    "        final.append(result)\n",
    "    return final\n",
    "\n",
    "def transformData(newType,dataframe,fields):\n",
    "    new_df = pd.DataFrame()\n",
    "    for i,f in enumerate(fields):\n",
    "        new_df[f] = dataframe[f].apply(lambda d: 0 if isNat(d) or isNan(d) else newType[i][d])\n",
    "    return new_df\n"
   ]
  },
  {
   "cell_type": "code",
   "execution_count": 104,
   "metadata": {},
   "outputs": [
    {
     "name": "stderr",
     "output_type": "stream",
     "text": [
      "/Library/Frameworks/Python.framework/Versions/3.6/lib/python3.6/site-packages/ipykernel_launcher.py:3: FutureWarning: In the future, 'NAT == x' and 'x == NAT' will always be False.\n",
      "  This is separate from the ipykernel package so we can avoid doing imports until\n"
     ]
    }
   ],
   "source": [
    "newType = transformType(visa_df, visa_df.columns)\n",
    "newData = transformData(newType,visa_df,visa_df.columns)"
   ]
  },
  {
   "cell_type": "code",
   "execution_count": 105,
   "metadata": {},
   "outputs": [
    {
     "data": {
      "text/html": [
       "<div>\n",
       "<style scoped>\n",
       "    .dataframe tbody tr th:only-of-type {\n",
       "        vertical-align: middle;\n",
       "    }\n",
       "\n",
       "    .dataframe tbody tr th {\n",
       "        vertical-align: top;\n",
       "    }\n",
       "\n",
       "    .dataframe thead th {\n",
       "        text-align: right;\n",
       "    }\n",
       "</style>\n",
       "<table border=\"1\" class=\"dataframe\">\n",
       "  <thead>\n",
       "    <tr style=\"text-align: right;\">\n",
       "      <th></th>\n",
       "      <th>add_these_pw_job_title_9089</th>\n",
       "      <th>application_type</th>\n",
       "      <th>case_no</th>\n",
       "      <th>class_of_admission</th>\n",
       "      <th>country_of_citizenship</th>\n",
       "      <th>country_of_citzenship</th>\n",
       "      <th>employer_country</th>\n",
       "      <th>employer_phone_ext</th>\n",
       "      <th>foreign_worker_info_alt_edu_experience</th>\n",
       "      <th>foreign_worker_info_birth_country</th>\n",
       "      <th>...</th>\n",
       "      <th>ri_us_workers_considered</th>\n",
       "      <th>schd_a_sheepherder</th>\n",
       "      <th>us_economic_sector</th>\n",
       "      <th>wage_offer_to_9089</th>\n",
       "      <th>wage_offer_unit_of_pay_9089</th>\n",
       "      <th>wage_offered_from_9089</th>\n",
       "      <th>wage_offered_to_9089</th>\n",
       "      <th>wage_offered_unit_of_pay_9089</th>\n",
       "      <th>have_agent</th>\n",
       "      <th>Certified</th>\n",
       "    </tr>\n",
       "  </thead>\n",
       "  <tbody>\n",
       "    <tr>\n",
       "      <th>0</th>\n",
       "      <td>0</td>\n",
       "      <td>1</td>\n",
       "      <td>1</td>\n",
       "      <td>1</td>\n",
       "      <td>0</td>\n",
       "      <td>1</td>\n",
       "      <td>0</td>\n",
       "      <td>0</td>\n",
       "      <td>0</td>\n",
       "      <td>0</td>\n",
       "      <td>...</td>\n",
       "      <td>0</td>\n",
       "      <td>0</td>\n",
       "      <td>1</td>\n",
       "      <td>0</td>\n",
       "      <td>1</td>\n",
       "      <td>0</td>\n",
       "      <td>0</td>\n",
       "      <td>0</td>\n",
       "      <td>1</td>\n",
       "      <td>1</td>\n",
       "    </tr>\n",
       "    <tr>\n",
       "      <th>1</th>\n",
       "      <td>0</td>\n",
       "      <td>1</td>\n",
       "      <td>2</td>\n",
       "      <td>2</td>\n",
       "      <td>0</td>\n",
       "      <td>2</td>\n",
       "      <td>0</td>\n",
       "      <td>0</td>\n",
       "      <td>0</td>\n",
       "      <td>0</td>\n",
       "      <td>...</td>\n",
       "      <td>0</td>\n",
       "      <td>0</td>\n",
       "      <td>2</td>\n",
       "      <td>0</td>\n",
       "      <td>1</td>\n",
       "      <td>0</td>\n",
       "      <td>0</td>\n",
       "      <td>0</td>\n",
       "      <td>1</td>\n",
       "      <td>2</td>\n",
       "    </tr>\n",
       "    <tr>\n",
       "      <th>2</th>\n",
       "      <td>0</td>\n",
       "      <td>1</td>\n",
       "      <td>3</td>\n",
       "      <td>3</td>\n",
       "      <td>0</td>\n",
       "      <td>3</td>\n",
       "      <td>0</td>\n",
       "      <td>0</td>\n",
       "      <td>0</td>\n",
       "      <td>0</td>\n",
       "      <td>...</td>\n",
       "      <td>0</td>\n",
       "      <td>0</td>\n",
       "      <td>3</td>\n",
       "      <td>0</td>\n",
       "      <td>1</td>\n",
       "      <td>0</td>\n",
       "      <td>0</td>\n",
       "      <td>0</td>\n",
       "      <td>1</td>\n",
       "      <td>1</td>\n",
       "    </tr>\n",
       "    <tr>\n",
       "      <th>3</th>\n",
       "      <td>0</td>\n",
       "      <td>1</td>\n",
       "      <td>4</td>\n",
       "      <td>2</td>\n",
       "      <td>0</td>\n",
       "      <td>4</td>\n",
       "      <td>0</td>\n",
       "      <td>0</td>\n",
       "      <td>0</td>\n",
       "      <td>0</td>\n",
       "      <td>...</td>\n",
       "      <td>0</td>\n",
       "      <td>0</td>\n",
       "      <td>2</td>\n",
       "      <td>0</td>\n",
       "      <td>2</td>\n",
       "      <td>0</td>\n",
       "      <td>0</td>\n",
       "      <td>0</td>\n",
       "      <td>1</td>\n",
       "      <td>1</td>\n",
       "    </tr>\n",
       "    <tr>\n",
       "      <th>4</th>\n",
       "      <td>0</td>\n",
       "      <td>1</td>\n",
       "      <td>5</td>\n",
       "      <td>4</td>\n",
       "      <td>0</td>\n",
       "      <td>5</td>\n",
       "      <td>0</td>\n",
       "      <td>0</td>\n",
       "      <td>0</td>\n",
       "      <td>0</td>\n",
       "      <td>...</td>\n",
       "      <td>0</td>\n",
       "      <td>0</td>\n",
       "      <td>4</td>\n",
       "      <td>0</td>\n",
       "      <td>1</td>\n",
       "      <td>0</td>\n",
       "      <td>0</td>\n",
       "      <td>0</td>\n",
       "      <td>1</td>\n",
       "      <td>1</td>\n",
       "    </tr>\n",
       "  </tbody>\n",
       "</table>\n",
       "<p>5 rows × 106 columns</p>\n",
       "</div>"
      ],
      "text/plain": [
       "   add_these_pw_job_title_9089  application_type  case_no  class_of_admission  \\\n",
       "0                            0                 1        1                   1   \n",
       "1                            0                 1        2                   2   \n",
       "2                            0                 1        3                   3   \n",
       "3                            0                 1        4                   2   \n",
       "4                            0                 1        5                   4   \n",
       "\n",
       "   country_of_citizenship  country_of_citzenship  employer_country  \\\n",
       "0                       0                      1                 0   \n",
       "1                       0                      2                 0   \n",
       "2                       0                      3                 0   \n",
       "3                       0                      4                 0   \n",
       "4                       0                      5                 0   \n",
       "\n",
       "   employer_phone_ext  foreign_worker_info_alt_edu_experience  \\\n",
       "0                   0                                       0   \n",
       "1                   0                                       0   \n",
       "2                   0                                       0   \n",
       "3                   0                                       0   \n",
       "4                   0                                       0   \n",
       "\n",
       "   foreign_worker_info_birth_country    ...      ri_us_workers_considered  \\\n",
       "0                                  0    ...                             0   \n",
       "1                                  0    ...                             0   \n",
       "2                                  0    ...                             0   \n",
       "3                                  0    ...                             0   \n",
       "4                                  0    ...                             0   \n",
       "\n",
       "   schd_a_sheepherder  us_economic_sector  wage_offer_to_9089  \\\n",
       "0                   0                   1                   0   \n",
       "1                   0                   2                   0   \n",
       "2                   0                   3                   0   \n",
       "3                   0                   2                   0   \n",
       "4                   0                   4                   0   \n",
       "\n",
       "   wage_offer_unit_of_pay_9089  wage_offered_from_9089  wage_offered_to_9089  \\\n",
       "0                            1                       0                     0   \n",
       "1                            1                       0                     0   \n",
       "2                            1                       0                     0   \n",
       "3                            2                       0                     0   \n",
       "4                            1                       0                     0   \n",
       "\n",
       "   wage_offered_unit_of_pay_9089  have_agent  Certified  \n",
       "0                              0           1          1  \n",
       "1                              0           1          2  \n",
       "2                              0           1          1  \n",
       "3                              0           1          1  \n",
       "4                              0           1          1  \n",
       "\n",
       "[5 rows x 106 columns]"
      ]
     },
     "execution_count": 105,
     "metadata": {},
     "output_type": "execute_result"
    }
   ],
   "source": [
    "newData.head()"
   ]
  },
  {
   "cell_type": "code",
   "execution_count": 106,
   "metadata": {
    "collapsed": true
   },
   "outputs": [],
   "source": [
    "np.random.seed(42)\n",
    "def random_data(df,train_n = 0.8):\n",
    "    indexs =[i for i in range(df.shape[0])]\n",
    "    np.random.shuffle(indexs)\n",
    "    train = df.loc[indexs[:int(df.shape[0]*train_n)],:]\n",
    "    test = df.loc[indexs[int(df.shape[0]*train_n):],:]\n",
    "    train = train.reset_index()\n",
    "    test  = test.reset_index()\n",
    "    return train.drop(columns='index'),test.drop(columns='index')\n",
    "train,test = random_data(newData)\n"
   ]
  },
  {
   "cell_type": "code",
   "execution_count": 107,
   "metadata": {},
   "outputs": [
    {
     "data": {
      "text/plain": [
       "((166065, 106), (41517, 106))"
      ]
     },
     "execution_count": 107,
     "metadata": {},
     "output_type": "execute_result"
    }
   ],
   "source": [
    "train.shape,test.shape"
   ]
  },
  {
   "cell_type": "code",
   "execution_count": 108,
   "metadata": {},
   "outputs": [
    {
     "data": {
      "text/html": [
       "<div>\n",
       "<style scoped>\n",
       "    .dataframe tbody tr th:only-of-type {\n",
       "        vertical-align: middle;\n",
       "    }\n",
       "\n",
       "    .dataframe tbody tr th {\n",
       "        vertical-align: top;\n",
       "    }\n",
       "\n",
       "    .dataframe thead th {\n",
       "        text-align: right;\n",
       "    }\n",
       "</style>\n",
       "<table border=\"1\" class=\"dataframe\">\n",
       "  <thead>\n",
       "    <tr style=\"text-align: right;\">\n",
       "      <th></th>\n",
       "      <th>add_these_pw_job_title_9089</th>\n",
       "      <th>application_type</th>\n",
       "      <th>case_no</th>\n",
       "      <th>class_of_admission</th>\n",
       "      <th>country_of_citizenship</th>\n",
       "      <th>country_of_citzenship</th>\n",
       "      <th>employer_country</th>\n",
       "      <th>employer_phone_ext</th>\n",
       "      <th>foreign_worker_info_alt_edu_experience</th>\n",
       "      <th>foreign_worker_info_birth_country</th>\n",
       "      <th>...</th>\n",
       "      <th>ri_us_workers_considered</th>\n",
       "      <th>schd_a_sheepherder</th>\n",
       "      <th>us_economic_sector</th>\n",
       "      <th>wage_offer_to_9089</th>\n",
       "      <th>wage_offer_unit_of_pay_9089</th>\n",
       "      <th>wage_offered_from_9089</th>\n",
       "      <th>wage_offered_to_9089</th>\n",
       "      <th>wage_offered_unit_of_pay_9089</th>\n",
       "      <th>have_agent</th>\n",
       "      <th>Certified</th>\n",
       "    </tr>\n",
       "  </thead>\n",
       "  <tbody>\n",
       "    <tr>\n",
       "      <th>0</th>\n",
       "      <td>0</td>\n",
       "      <td>0</td>\n",
       "      <td>0</td>\n",
       "      <td>3</td>\n",
       "      <td>40</td>\n",
       "      <td>0</td>\n",
       "      <td>1</td>\n",
       "      <td>0</td>\n",
       "      <td>0</td>\n",
       "      <td>0</td>\n",
       "      <td>...</td>\n",
       "      <td>0</td>\n",
       "      <td>1</td>\n",
       "      <td>0</td>\n",
       "      <td>0</td>\n",
       "      <td>6</td>\n",
       "      <td>0</td>\n",
       "      <td>0</td>\n",
       "      <td>0</td>\n",
       "      <td>2</td>\n",
       "      <td>1</td>\n",
       "    </tr>\n",
       "    <tr>\n",
       "      <th>1</th>\n",
       "      <td>0</td>\n",
       "      <td>0</td>\n",
       "      <td>0</td>\n",
       "      <td>9</td>\n",
       "      <td>33</td>\n",
       "      <td>0</td>\n",
       "      <td>1</td>\n",
       "      <td>0</td>\n",
       "      <td>0</td>\n",
       "      <td>0</td>\n",
       "      <td>...</td>\n",
       "      <td>0</td>\n",
       "      <td>1</td>\n",
       "      <td>0</td>\n",
       "      <td>31</td>\n",
       "      <td>6</td>\n",
       "      <td>0</td>\n",
       "      <td>0</td>\n",
       "      <td>0</td>\n",
       "      <td>1</td>\n",
       "      <td>2</td>\n",
       "    </tr>\n",
       "    <tr>\n",
       "      <th>2</th>\n",
       "      <td>0</td>\n",
       "      <td>0</td>\n",
       "      <td>0</td>\n",
       "      <td>9</td>\n",
       "      <td>31</td>\n",
       "      <td>0</td>\n",
       "      <td>1</td>\n",
       "      <td>0</td>\n",
       "      <td>0</td>\n",
       "      <td>0</td>\n",
       "      <td>...</td>\n",
       "      <td>0</td>\n",
       "      <td>1</td>\n",
       "      <td>0</td>\n",
       "      <td>0</td>\n",
       "      <td>6</td>\n",
       "      <td>0</td>\n",
       "      <td>0</td>\n",
       "      <td>0</td>\n",
       "      <td>1</td>\n",
       "      <td>1</td>\n",
       "    </tr>\n",
       "    <tr>\n",
       "      <th>3</th>\n",
       "      <td>0</td>\n",
       "      <td>0</td>\n",
       "      <td>0</td>\n",
       "      <td>3</td>\n",
       "      <td>2</td>\n",
       "      <td>0</td>\n",
       "      <td>1</td>\n",
       "      <td>0</td>\n",
       "      <td>0</td>\n",
       "      <td>0</td>\n",
       "      <td>...</td>\n",
       "      <td>0</td>\n",
       "      <td>1</td>\n",
       "      <td>0</td>\n",
       "      <td>0</td>\n",
       "      <td>6</td>\n",
       "      <td>0</td>\n",
       "      <td>0</td>\n",
       "      <td>0</td>\n",
       "      <td>2</td>\n",
       "      <td>1</td>\n",
       "    </tr>\n",
       "    <tr>\n",
       "      <th>4</th>\n",
       "      <td>0</td>\n",
       "      <td>0</td>\n",
       "      <td>0</td>\n",
       "      <td>3</td>\n",
       "      <td>8</td>\n",
       "      <td>0</td>\n",
       "      <td>1</td>\n",
       "      <td>0</td>\n",
       "      <td>0</td>\n",
       "      <td>0</td>\n",
       "      <td>...</td>\n",
       "      <td>0</td>\n",
       "      <td>1</td>\n",
       "      <td>0</td>\n",
       "      <td>0</td>\n",
       "      <td>6</td>\n",
       "      <td>0</td>\n",
       "      <td>0</td>\n",
       "      <td>0</td>\n",
       "      <td>2</td>\n",
       "      <td>1</td>\n",
       "    </tr>\n",
       "  </tbody>\n",
       "</table>\n",
       "<p>5 rows × 106 columns</p>\n",
       "</div>"
      ],
      "text/plain": [
       "   add_these_pw_job_title_9089  application_type  case_no  class_of_admission  \\\n",
       "0                            0                 0        0                   3   \n",
       "1                            0                 0        0                   9   \n",
       "2                            0                 0        0                   9   \n",
       "3                            0                 0        0                   3   \n",
       "4                            0                 0        0                   3   \n",
       "\n",
       "   country_of_citizenship  country_of_citzenship  employer_country  \\\n",
       "0                      40                      0                 1   \n",
       "1                      33                      0                 1   \n",
       "2                      31                      0                 1   \n",
       "3                       2                      0                 1   \n",
       "4                       8                      0                 1   \n",
       "\n",
       "   employer_phone_ext  foreign_worker_info_alt_edu_experience  \\\n",
       "0                   0                                       0   \n",
       "1                   0                                       0   \n",
       "2                   0                                       0   \n",
       "3                   0                                       0   \n",
       "4                   0                                       0   \n",
       "\n",
       "   foreign_worker_info_birth_country    ...      ri_us_workers_considered  \\\n",
       "0                                  0    ...                             0   \n",
       "1                                  0    ...                             0   \n",
       "2                                  0    ...                             0   \n",
       "3                                  0    ...                             0   \n",
       "4                                  0    ...                             0   \n",
       "\n",
       "   schd_a_sheepherder  us_economic_sector  wage_offer_to_9089  \\\n",
       "0                   1                   0                   0   \n",
       "1                   1                   0                  31   \n",
       "2                   1                   0                   0   \n",
       "3                   1                   0                   0   \n",
       "4                   1                   0                   0   \n",
       "\n",
       "   wage_offer_unit_of_pay_9089  wage_offered_from_9089  wage_offered_to_9089  \\\n",
       "0                            6                       0                     0   \n",
       "1                            6                       0                     0   \n",
       "2                            6                       0                     0   \n",
       "3                            6                       0                     0   \n",
       "4                            6                       0                     0   \n",
       "\n",
       "   wage_offered_unit_of_pay_9089  have_agent  Certified  \n",
       "0                              0           2          1  \n",
       "1                              0           1          2  \n",
       "2                              0           1          1  \n",
       "3                              0           2          1  \n",
       "4                              0           2          1  \n",
       "\n",
       "[5 rows x 106 columns]"
      ]
     },
     "execution_count": 108,
     "metadata": {},
     "output_type": "execute_result"
    }
   ],
   "source": [
    "train.head()"
   ]
  },
  {
   "cell_type": "markdown",
   "metadata": {},
   "source": [
    "## Naive Bayes"
   ]
  },
  {
   "cell_type": "code",
   "execution_count": 109,
   "metadata": {},
   "outputs": [
    {
     "data": {
      "text/plain": [
       "GaussianNB(priors=None)"
      ]
     },
     "execution_count": 109,
     "metadata": {},
     "output_type": "execute_result"
    }
   ],
   "source": [
    "from sklearn.naive_bayes import GaussianNB\n",
    "\n",
    "clf = GaussianNB()\n",
    "clf.fit(train.drop(columns='Certified'),train.Certified)\n",
    "\n"
   ]
  },
  {
   "cell_type": "code",
   "execution_count": 110,
   "metadata": {
    "collapsed": true
   },
   "outputs": [],
   "source": [
    "prediction = clf.predict([test.iloc[i,:-1] for i in range(test.shape[0])])"
   ]
  },
  {
   "cell_type": "code",
   "execution_count": 111,
   "metadata": {},
   "outputs": [
    {
     "data": {
      "text/plain": [
       "0.5939494664836091"
      ]
     },
     "execution_count": 111,
     "metadata": {},
     "output_type": "execute_result"
    }
   ],
   "source": [
    "sum(prediction==test.Certified)/test.shape[0]"
   ]
  },
  {
   "cell_type": "markdown",
   "metadata": {},
   "source": [
    "## Goodness of model"
   ]
  },
  {
   "cell_type": "code",
   "execution_count": 112,
   "metadata": {
    "collapsed": true
   },
   "outputs": [],
   "source": [
    "def accuracy(TP,TN,FP,FN):\n",
    "    return (TP+TN)/(TP+FP+FN+TN)\n",
    "def precision(TP,FP):\n",
    "    return TP/(TP+FP)\n",
    "def recall(TP,FN):\n",
    "    return TP/(TP+FN)\n",
    "def f1Score(Recall,Precision):\n",
    "    return 2*(Recall*Precision)/(Recall+Precision)\n",
    "# TP = certified and prediction = certified\n",
    "# TN = certified and prediction = deny\n",
    "# FP = Deny and prediction = certified\n",
    "# FN = Deny and prediction = deny"
   ]
  },
  {
   "cell_type": "code",
   "execution_count": 113,
   "metadata": {},
   "outputs": [
    {
     "data": {
      "text/plain": [
       "0    1\n",
       "1    1\n",
       "2    1\n",
       "3    2\n",
       "4    1\n",
       "Name: Certified, dtype: int64"
      ]
     },
     "execution_count": 113,
     "metadata": {},
     "output_type": "execute_result"
    }
   ],
   "source": [
    "test.Certified.head()"
   ]
  },
  {
   "cell_type": "code",
   "execution_count": 114,
   "metadata": {},
   "outputs": [
    {
     "name": "stdout",
     "output_type": "stream",
     "text": [
      "accuracy 0.5939494664836091\n",
      "precision 0.9428080954101915\n",
      "recall 0.5723767209697768\n",
      "f1Score 0.7123110003754395\n"
     ]
    }
   ],
   "source": [
    "TP = sum((test.Certified == 1)&(prediction==1))# Certfied and Certified\n",
    "FN = sum((test.Certified == 1)&(prediction!=1))# Certfied and deny\n",
    "FP = sum((test.Certified != 1)&(prediction==1))# deny and Certified\n",
    "TN = sum((test.Certified != 1)&(prediction!=1))# deny and deny\n",
    "print(\"accuracy\",accuracy(TP,TN,FP,FN))\n",
    "print(\"precision\",precision(TP,FP))\n",
    "print(\"recall\",recall(TP,FN))\n",
    "print(\"f1Score\",f1Score(recall(TP,FN),precision(TP,FP)))"
   ]
  },
  {
   "cell_type": "markdown",
   "metadata": {},
   "source": [
    "## Logistic Regression"
   ]
  },
  {
   "cell_type": "code",
   "execution_count": 134,
   "metadata": {},
   "outputs": [
    {
     "data": {
      "text/plain": [
       "LogisticRegression(C=1.0, class_weight=None, dual=False, fit_intercept=True,\n",
       "          intercept_scaling=1, max_iter=100, multi_class='ovr', n_jobs=1,\n",
       "          penalty='l2', random_state=None, solver='liblinear', tol=0.0001,\n",
       "          verbose=0, warm_start=False)"
      ]
     },
     "execution_count": 134,
     "metadata": {},
     "output_type": "execute_result"
    }
   ],
   "source": [
    "from sklearn import linear_model\n",
    "\n",
    "regr = linear_model.LogisticRegression()\n",
    "regr.fit(train.drop(columns='Certified'),train.Certified)"
   ]
  },
  {
   "cell_type": "code",
   "execution_count": 120,
   "metadata": {
    "collapsed": true
   },
   "outputs": [],
   "source": [
    "prediction = regr.predict([test.iloc[i,:-1] for i in range(test.shape[0])])"
   ]
  },
  {
   "cell_type": "code",
   "execution_count": 122,
   "metadata": {},
   "outputs": [
    {
     "data": {
      "text/plain": [
       "0.8847219211407376"
      ]
     },
     "execution_count": 122,
     "metadata": {},
     "output_type": "execute_result"
    }
   ],
   "source": [
    "sum(prediction==test.Certified)/test.shape[0]"
   ]
  },
  {
   "cell_type": "markdown",
   "metadata": {},
   "source": [
    "## Goodness of model"
   ]
  },
  {
   "cell_type": "code",
   "execution_count": 123,
   "metadata": {},
   "outputs": [
    {
     "name": "stdout",
     "output_type": "stream",
     "text": [
      "accuracy 0.8847219211407376\n",
      "precision 0.88809115412889\n",
      "recall 0.993993746914596\n",
      "f1Score 0.9380629464747903\n"
     ]
    }
   ],
   "source": [
    "TP = sum((test.Certified == 1)&(prediction==1))# Certfied and Certified\n",
    "FN = sum((test.Certified == 1)&(prediction!=1))# Certfied and deny\n",
    "FP = sum((test.Certified != 1)&(prediction==1))# deny and Certified\n",
    "TN = sum((test.Certified != 1)&(prediction!=1))# deny and deny\n",
    "print(\"accuracy\",accuracy(TP,TN,FP,FN))\n",
    "print(\"precision\",precision(TP,FP))\n",
    "print(\"recall\",recall(TP,FN))\n",
    "print(\"f1Score\",f1Score(recall(TP,FN),precision(TP,FP)))"
   ]
  },
  {
   "cell_type": "markdown",
   "metadata": {},
   "source": [
    "## KNN"
   ]
  },
  {
   "cell_type": "code",
   "execution_count": 124,
   "metadata": {},
   "outputs": [
    {
     "data": {
      "text/plain": [
       "KNeighborsClassifier(algorithm='auto', leaf_size=30, metric='minkowski',\n",
       "           metric_params=None, n_jobs=1, n_neighbors=3, p=2,\n",
       "           weights='uniform')"
      ]
     },
     "execution_count": 124,
     "metadata": {},
     "output_type": "execute_result"
    }
   ],
   "source": [
    "from sklearn.neighbors import KNeighborsClassifier\n",
    "neigh = KNeighborsClassifier(n_neighbors=3) # plot graph accuracy\n",
    "neigh.fit(train.drop(columns='Certified'),train.Certified)"
   ]
  },
  {
   "cell_type": "code",
   "execution_count": 131,
   "metadata": {
    "collapsed": true
   },
   "outputs": [],
   "source": [
    "prediction = neigh.predict([test.iloc[i,:-1] for i in range(test.shape[0])])"
   ]
  },
  {
   "cell_type": "code",
   "execution_count": 132,
   "metadata": {},
   "outputs": [
    {
     "data": {
      "text/plain": [
       "0.9337861598863116"
      ]
     },
     "execution_count": 132,
     "metadata": {},
     "output_type": "execute_result"
    }
   ],
   "source": [
    "sum(prediction==test.Certified)/test.shape[0]"
   ]
  },
  {
   "cell_type": "markdown",
   "metadata": {},
   "source": [
    "## Goodness of model"
   ]
  },
  {
   "cell_type": "code",
   "execution_count": 133,
   "metadata": {},
   "outputs": [
    {
     "name": "stdout",
     "output_type": "stream",
     "text": [
      "accuracy 0.9337861598863116\n",
      "precision 0.9501188282731181\n",
      "recall 0.9758378585925073\n",
      "f1Score 0.9628066187712248\n"
     ]
    }
   ],
   "source": [
    "TP = sum((test.Certified == 1)&(prediction==1))# Certfied and Certified\n",
    "FN = sum((test.Certified == 1)&(prediction!=1))# Certfied and deny\n",
    "FP = sum((test.Certified != 1)&(prediction==1))# deny and Certified\n",
    "TN = sum((test.Certified != 1)&(prediction!=1))# deny and deny\n",
    "print(\"accuracy\",accuracy(TP,TN,FP,FN))\n",
    "print(\"precision\",precision(TP,FP))\n",
    "print(\"recall\",recall(TP,FN))\n",
    "print(\"f1Score\",f1Score(recall(TP,FN),precision(TP,FP)))"
   ]
  },
  {
   "cell_type": "code",
   "execution_count": 90,
   "metadata": {},
   "outputs": [],
   "source": [
    "f1Scores = []\n",
    "neighbors = range(1,5)\n",
    "for n in neighbors:\n",
    "    neigh = KNeighborsClassifier(n_neighbors=n) # plot graph accuracy\n",
    "    neigh.fit(train.drop(columns='Certified'),train.Certified)\n",
    "    predition = neigh.predict([test.iloc[i,:-1] for i in range(test.shape[0])])\n",
    "    TP = sum((test.Certified == 1)&(predition==1))# Certfied and Certified\n",
    "    TN = sum((test.Certified == 1)&(predition!=1))# Certfied and deny\n",
    "    FP = sum((test.Certified != 1)&(predition==1))# deny and Certified\n",
    "    FN = sum((test.Certified != 1)&(predition!=1))# deny and deny\n",
    "    f1Scores.append(f1Score(recall(TP,FN),precision(TP,FP)))"
   ]
  },
  {
   "cell_type": "code",
   "execution_count": 91,
   "metadata": {},
   "outputs": [
    {
     "data": {
      "text/plain": [
       "[0.9323700581978727,\n",
       " 0.9344978165938865,\n",
       " 0.9336762139680124,\n",
       " 0.9344808367788681]"
      ]
     },
     "execution_count": 91,
     "metadata": {},
     "output_type": "execute_result"
    }
   ],
   "source": [
    "f1Scores"
   ]
  },
  {
   "cell_type": "code",
   "execution_count": 100,
   "metadata": {},
   "outputs": [
    {
     "data": {
      "text/plain": [
       "<Container object of 4 artists>"
      ]
     },
     "execution_count": 100,
     "metadata": {},
     "output_type": "execute_result"
    },
    {
     "data": {
      "image/png": "[encoded data removed]",
      "text/plain": [
       "<matplotlib.figure.Figure at 0x1376914e0>"
      ]
     },
     "metadata": {},
     "output_type": "display_data"
    }
   ],
   "source": [
    "plt.bar(neighbors,1-np.array(f1Scores))"
   ]
  },
  {
   "cell_type": "code",
   "execution_count": null,
   "metadata": {
    "collapsed": true
   },
   "outputs": [],
   "source": []
  }
 ],
 "metadata": {
  "kernelspec": {
   "display_name": "Python 3",
   "language": "python",
   "name": "python3"
  },
  "language_info": {
   "codemirror_mode": {
    "name": "ipython",
    "version": 3
   },
   "file_extension": ".py",
   "mimetype": "text/x-python",
   "name": "python",
   "nbconvert_exporter": "python",
   "pygments_lexer": "ipython3",
   "version": "3.6.4"
  }
 },
 "nbformat": 4,
 "nbformat_minor": 2
}
